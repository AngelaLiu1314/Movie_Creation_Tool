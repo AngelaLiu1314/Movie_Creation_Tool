{
 "cells": [
  {
   "cell_type": "markdown",
   "metadata": {},
   "source": [
    "### This notebook is for adding poster URL link to each movie record.\n",
    "\n",
    "* Import the latest-updated csv file named imdbProcessed_{date} and run the code starting at the desired index\n",
    "\n",
    "* When you're done, run through the rest of the code and export the new imdbProcessed dataset with today's date."
   ]
  },
  {
   "cell_type": "code",
   "execution_count": 2,
   "metadata": {},
   "outputs": [],
   "source": [
    "import pandas as pd\n",
    "from datetime import datetime"
   ]
  },
  {
   "cell_type": "code",
   "execution_count": 11,
   "metadata": {},
   "outputs": [
    {
     "data": {
      "text/plain": [
       "Timestamp('2024-10-09 18:58:19.664913')"
      ]
     },
     "execution_count": 11,
     "metadata": {},
     "output_type": "execute_result"
    }
   ],
   "source": [
    "today = datetime.today()\n",
    "today = pd.to_datetime(today, format='%Y-%m-%d')\n",
    "today"
   ]
  },
  {
   "cell_type": "code",
   "execution_count": 18,
   "metadata": {},
   "outputs": [],
   "source": [
    "imdbLast = pd.read_csv(\"/Users/ianchang/Library/Mobile Documents/com~apple~CloudDocs/1. Project/Fall 2024/Movie_Creation_Tool-1/ignoredFiles/TMDB_all_movies.csv\",usecols=[\"title\", \"imdb_id\", \"release_date\", \"runtime\"])"
   ]
  },
  {
   "cell_type": "code",
   "execution_count": 19,
   "metadata": {},
   "outputs": [],
   "source": [
    "# Step 1: Convert 'release_date' to datetime and extract the year\n",
    "imdbLast['release_date'] = pd.to_datetime(imdbLast['release_date'], format='%Y-%m-%d', errors='coerce')\n",
    "\n",
    "# Step 2: Filter rows where both 'imdb_id' and 'release_date' are valid (non-null)\n",
    "valid_time_rows = imdbLast[pd.notna(imdbLast['imdb_id']) & pd.notna(imdbLast['release_date'])].copy()\n",
    "\n",
    "# Step 3: Extract the year and assign it to a new column 'release_year'\n",
    "valid_time_rows['release_year'] = valid_time_rows['release_date'].dt.year\n",
    "\n",
    "valid_rows = valid_time_rows[valid_time_rows['release_date'] <= datetime.today()]\n",
    "\n",
    "# Now valid_rows is your \"imdbProcessed\" dataframe with valid rows and a 'release_year' column\n",
    "imdbProcessed = valid_rows\n",
    "\n"
   ]
  },
  {
   "cell_type": "code",
   "execution_count": 29,
   "metadata": {},
   "outputs": [],
   "source": [
    "imdbProcessed = imdbProcessed.sort_values(by=[\"release_year\"], ascending= False).reset_index(drop=True).drop(columns=[\"index\"])"
   ]
  },
  {
   "cell_type": "code",
   "execution_count": 51,
   "metadata": {},
   "outputs": [],
   "source": [
    "latest_processed = pd.read_csv(\"/Users/ianchang/Library/Mobile Documents/com~apple~CloudDocs/1. Project/Fall 2024/Movie_Creation_Tool-1/ians-playground/imdbProcessed_2024-10-10.csv\", low_memory= False).drop(columns=\"Unnamed: 0\")"
   ]
  },
  {
   "cell_type": "code",
   "execution_count": 21,
   "metadata": {},
   "outputs": [],
   "source": [
    "from imdb import Cinemagoer\n",
    "\n",
    "ia = Cinemagoer()"
   ]
  },
  {
   "cell_type": "code",
   "execution_count": null,
   "metadata": {},
   "outputs": [],
   "source": [
    "import time\n",
    "\n",
    "for index, row in latest_processed[9987:].iterrows():\n",
    "    movieId = row[\"imdb_id\"][2:]\n",
    "    retries = 3  # Number of retries\n",
    "    for attempt in range(retries):\n",
    "        try:\n",
    "            movie = ia.get_movie(movieId)\n",
    "            if movie.get(\"cover url\"):\n",
    "                posterLink = movie.get(\"cover url\")\n",
    "                latest_processed.loc[index, \"poster_link\"] = posterLink\n",
    "            else:\n",
    "                print(f\"Poster not found for movie ID: {movieId}\")\n",
    "            break  # Break the loop if successful\n",
    "\n",
    "        except Exception as e:\n",
    "            print(f\"Attempt {attempt + 1} failed for movie ID {movieId}: {e}\")\n",
    "            time.sleep(2 ** attempt)  # Exponentially backoff\n",
    "            if attempt == retries - 1:\n",
    "                print(f\"Max retries reached for movie ID {movieId}. Skipping...\")\n",
    "                continue"
   ]
  },
  {
   "cell_type": "code",
   "execution_count": 61,
   "metadata": {},
   "outputs": [
    {
     "data": {
      "text/html": [
       "<div>\n",
       "<style scoped>\n",
       "    .dataframe tbody tr th:only-of-type {\n",
       "        vertical-align: middle;\n",
       "    }\n",
       "\n",
       "    .dataframe tbody tr th {\n",
       "        vertical-align: top;\n",
       "    }\n",
       "\n",
       "    .dataframe thead th {\n",
       "        text-align: right;\n",
       "    }\n",
       "</style>\n",
       "<table border=\"1\" class=\"dataframe\">\n",
       "  <thead>\n",
       "    <tr style=\"text-align: right;\">\n",
       "      <th></th>\n",
       "      <th>title</th>\n",
       "      <th>release_date</th>\n",
       "      <th>runtime</th>\n",
       "      <th>imdb_id</th>\n",
       "      <th>release_year</th>\n",
       "      <th>poster_link</th>\n",
       "    </tr>\n",
       "  </thead>\n",
       "  <tbody>\n",
       "    <tr>\n",
       "      <th>0</th>\n",
       "      <td>La Suprema</td>\n",
       "      <td>2024-05-02</td>\n",
       "      <td>83.0</td>\n",
       "      <td>tt20158934</td>\n",
       "      <td>2024</td>\n",
       "      <td>https://m.media-amazon.com/images/M/MV5BYzc0N2...</td>\n",
       "    </tr>\n",
       "    <tr>\n",
       "      <th>1</th>\n",
       "      <td>Honeymoon</td>\n",
       "      <td>2024-01-12</td>\n",
       "      <td>90.0</td>\n",
       "      <td>tt19721342</td>\n",
       "      <td>2024</td>\n",
       "      <td>https://m.media-amazon.com/images/M/MV5BN2E1MG...</td>\n",
       "    </tr>\n",
       "    <tr>\n",
       "      <th>2</th>\n",
       "      <td>Johnny &amp; Me - A Journey through Time with John...</td>\n",
       "      <td>2024-01-25</td>\n",
       "      <td>104.0</td>\n",
       "      <td>tt15807040</td>\n",
       "      <td>2024</td>\n",
       "      <td>https://m.media-amazon.com/images/M/MV5BNjIwYz...</td>\n",
       "    </tr>\n",
       "    <tr>\n",
       "      <th>3</th>\n",
       "      <td>Milk &amp; Serial</td>\n",
       "      <td>2024-08-08</td>\n",
       "      <td>62.0</td>\n",
       "      <td>tt22075376</td>\n",
       "      <td>2024</td>\n",
       "      <td>https://m.media-amazon.com/images/M/MV5BMmVhMD...</td>\n",
       "    </tr>\n",
       "    <tr>\n",
       "      <th>4</th>\n",
       "      <td>Burnt Country</td>\n",
       "      <td>2024-02-21</td>\n",
       "      <td>17.0</td>\n",
       "      <td>tt31224230</td>\n",
       "      <td>2024</td>\n",
       "      <td>https://m.media-amazon.com/images/M/MV5BMDdjZW...</td>\n",
       "    </tr>\n",
       "    <tr>\n",
       "      <th>...</th>\n",
       "      <td>...</td>\n",
       "      <td>...</td>\n",
       "      <td>...</td>\n",
       "      <td>...</td>\n",
       "      <td>...</td>\n",
       "      <td>...</td>\n",
       "    </tr>\n",
       "    <tr>\n",
       "      <th>554394</th>\n",
       "      <td>Sallie Gardner at a Gallop</td>\n",
       "      <td>1878-06-19</td>\n",
       "      <td>1.0</td>\n",
       "      <td>tt2221420</td>\n",
       "      <td>1878</td>\n",
       "      <td>NaN</td>\n",
       "    </tr>\n",
       "    <tr>\n",
       "      <th>554395</th>\n",
       "      <td>L'Amazone</td>\n",
       "      <td>1878-05-06</td>\n",
       "      <td>1.0</td>\n",
       "      <td>tt32173050</td>\n",
       "      <td>1878</td>\n",
       "      <td>NaN</td>\n",
       "    </tr>\n",
       "    <tr>\n",
       "      <th>554396</th>\n",
       "      <td>Zim, Boum, Boum</td>\n",
       "      <td>1878-05-07</td>\n",
       "      <td>1.0</td>\n",
       "      <td>tt16763774</td>\n",
       "      <td>1878</td>\n",
       "      <td>NaN</td>\n",
       "    </tr>\n",
       "    <tr>\n",
       "      <th>554397</th>\n",
       "      <td>La Glissade</td>\n",
       "      <td>1878-05-06</td>\n",
       "      <td>1.0</td>\n",
       "      <td>tt32172647</td>\n",
       "      <td>1878</td>\n",
       "      <td>NaN</td>\n",
       "    </tr>\n",
       "    <tr>\n",
       "      <th>554398</th>\n",
       "      <td>Passage of Venus</td>\n",
       "      <td>1874-12-09</td>\n",
       "      <td>1.0</td>\n",
       "      <td>tt3155794</td>\n",
       "      <td>1874</td>\n",
       "      <td>NaN</td>\n",
       "    </tr>\n",
       "  </tbody>\n",
       "</table>\n",
       "<p>554399 rows × 6 columns</p>\n",
       "</div>"
      ],
      "text/plain": [
       "                                                    title release_date  \\\n",
       "0                                              La Suprema   2024-05-02   \n",
       "1                                               Honeymoon   2024-01-12   \n",
       "2       Johnny & Me - A Journey through Time with John...   2024-01-25   \n",
       "3                                           Milk & Serial   2024-08-08   \n",
       "4                                           Burnt Country   2024-02-21   \n",
       "...                                                   ...          ...   \n",
       "554394                         Sallie Gardner at a Gallop   1878-06-19   \n",
       "554395                                          L'Amazone   1878-05-06   \n",
       "554396                                    Zim, Boum, Boum   1878-05-07   \n",
       "554397                                        La Glissade   1878-05-06   \n",
       "554398                                   Passage of Venus   1874-12-09   \n",
       "\n",
       "        runtime     imdb_id  release_year  \\\n",
       "0          83.0  tt20158934          2024   \n",
       "1          90.0  tt19721342          2024   \n",
       "2         104.0  tt15807040          2024   \n",
       "3          62.0  tt22075376          2024   \n",
       "4          17.0  tt31224230          2024   \n",
       "...         ...         ...           ...   \n",
       "554394      1.0   tt2221420          1878   \n",
       "554395      1.0  tt32173050          1878   \n",
       "554396      1.0  tt16763774          1878   \n",
       "554397      1.0  tt32172647          1878   \n",
       "554398      1.0   tt3155794          1874   \n",
       "\n",
       "                                              poster_link  \n",
       "0       https://m.media-amazon.com/images/M/MV5BYzc0N2...  \n",
       "1       https://m.media-amazon.com/images/M/MV5BN2E1MG...  \n",
       "2       https://m.media-amazon.com/images/M/MV5BNjIwYz...  \n",
       "3       https://m.media-amazon.com/images/M/MV5BMmVhMD...  \n",
       "4       https://m.media-amazon.com/images/M/MV5BMDdjZW...  \n",
       "...                                                   ...  \n",
       "554394                                                NaN  \n",
       "554395                                                NaN  \n",
       "554396                                                NaN  \n",
       "554397                                                NaN  \n",
       "554398                                                NaN  \n",
       "\n",
       "[554399 rows x 6 columns]"
      ]
     },
     "execution_count": 61,
     "metadata": {},
     "output_type": "execute_result"
    }
   ],
   "source": [
    "latest_processed"
   ]
  },
  {
   "cell_type": "code",
   "execution_count": 62,
   "metadata": {},
   "outputs": [
    {
     "data": {
      "text/plain": [
       "'2024-10-10'"
      ]
     },
     "execution_count": 62,
     "metadata": {},
     "output_type": "execute_result"
    }
   ],
   "source": [
    "today = datetime.today().date().strftime('%Y-%m-%d')\n",
    "today"
   ]
  },
  {
   "cell_type": "code",
   "execution_count": 63,
   "metadata": {},
   "outputs": [],
   "source": [
    "latest_processed.to_csv(f\"/Users/ianchang/Library/Mobile Documents/com~apple~CloudDocs/1. Project/Fall 2024/Movie_Creation_Tool-1/ians-playground/imdbProcessed_{today}.csv\")"
   ]
  },
  {
   "cell_type": "code",
   "execution_count": null,
   "metadata": {},
   "outputs": [],
   "source": []
  }
 ],
 "metadata": {
  "kernelspec": {
   "display_name": ".venv",
   "language": "python",
   "name": "python3"
  },
  "language_info": {
   "codemirror_mode": {
    "name": "ipython",
    "version": 3
   },
   "file_extension": ".py",
   "mimetype": "text/x-python",
   "name": "python",
   "nbconvert_exporter": "python",
   "pygments_lexer": "ipython3",
   "version": "3.12.3"
  }
 },
 "nbformat": 4,
 "nbformat_minor": 2
}
