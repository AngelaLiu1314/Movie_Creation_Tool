{
 "cells": [
  {
   "cell_type": "code",
   "execution_count": 2,
   "metadata": {},
   "outputs": [],
   "source": [
    "from imdb import Cinemagoer\n"
   ]
  },
  {
   "cell_type": "code",
   "execution_count": 3,
   "metadata": {},
   "outputs": [],
   "source": [
    "# Create an instance of the IMDb class\n",
    "ia = Cinemagoer()\n",
    "\n",
    "# Get movie by IMDb ID\n",
    "movie_id = '0816692'  # This is the IMDb ID for the movie \"Interstellar\"\n",
    "movie = ia.get_movie(movie_id)"
   ]
  },
  {
   "cell_type": "code",
   "execution_count": 32,
   "metadata": {},
   "outputs": [],
   "source": [
    "# Get the first cast member of the movie\n",
    "first_cast_member = movie['cast'][:20] if 'cast' in movie else None"
   ]
  },
  {
   "cell_type": "code",
   "execution_count": 33,
   "metadata": {},
   "outputs": [
    {
     "data": {
      "text/plain": [
       "[<Person id:0000995[http] name:_Ellen Burstyn_>,\n",
       " <Person id:0000190[http] name:_Matthew McConaughey_>,\n",
       " <Person id:3237775[http] name:_Mackenzie Foy_>,\n",
       " <Person id:0001475[http] name:_John Lithgow_>,\n",
       " <Person id:3154303[http] name:_Timothée Chalamet_>,\n",
       " <Person id:0654648[http] name:_David Oyelowo_>,\n",
       " <Person id:2180792[http] name:_Collette Wolfe_>,\n",
       " <Person id:0565133[http] name:_Francis X. McCarthy_>,\n",
       " <Person id:0410347[http] name:_Bill Irwin_>,\n",
       " <Person id:0004266[http] name:_Anne Hathaway_>,\n",
       " <Person id:0095960[http] name:_Andrew Borba_>,\n",
       " <Person id:0004747[http] name:_Wes Bentley_>,\n",
       " <Person id:0001137[http] name:_William Devane_>,\n",
       " <Person id:0000323[http] name:_Michael Caine_>,\n",
       " <Person id:1408543[http] name:_David Gyasi_>,\n",
       " <Person id:1577637[http] name:_Josh Stewart_>,\n",
       " <Person id:0000729[http] name:_Casey Affleck_>,\n",
       " <Person id:1489668[http] name:_Leah Cairns_>,\n",
       " <Person id:1567113[http] name:_Jessica Chastain_>,\n",
       " <Person id:5291430[http] name:_Liam Dickinson_>]"
      ]
     },
     "execution_count": 33,
     "metadata": {},
     "output_type": "execute_result"
    }
   ],
   "source": [
    "first_cast_member"
   ]
  },
  {
   "cell_type": "code",
   "execution_count": 35,
   "metadata": {},
   "outputs": [
    {
     "name": "stdout",
     "output_type": "stream",
     "text": [
      "Actor Name: Jessica Chastain\n",
      "Birth Date: N/A\n",
      "Height: N/A\n",
      "Biography: Jessica Michelle Chastain was born in Sacramento, California, and was raised in a middle-class household in a Northern California suburb. Her mother, Jerri Chastain, is a vegan chef whose family is originally from Kansas, and her stepfather is a fireman. She discovered dance at the age of nine and was in a dance troupe by age thirteen. She began performing in Shakespearean productions all over the Bay area.An actor in a production of \"Romeo & Juliet\" encouraged her to audition for Juilliard as a...\n",
      "Trivia: N/A\n",
      "Filmography: N/A\n",
      "Actor Photo URL: https://m.media-amazon.com/images/M/MV5BMTU1MDM5NjczOF5BMl5BanBnXkFtZTcwOTY2MDE4OA@@._V1_QL75_UX140_CR0,0,140,207_.jpg\n"
     ]
    }
   ],
   "source": [
    "if first_cast_member[18]:\n",
    "    actor_id = first_cast_member[18].personID\n",
    "    actor = ia.get_person(actor_id)  # Retrieve full details of the actor\n",
    "    \n",
    "    # Extracting various pieces of information\n",
    "    actor_name = actor.get('name', 'N/A')\n",
    "    actor_birth_date = actor.get('birth date', 'N/A')\n",
    "    actor_height = actor.get('height', 'N/A')\n",
    "    actor_biography = actor.get('biography', ['N/A'])[0]  # IMDb stores biography as a list\n",
    "    actor_filmography = actor.get('filmography', 'N/A')  # Detailed filmography\n",
    "    actor_trivia = actor.get('trivia', ['N/A'])[0]  # Trivia is also a list, taking the first entry\n",
    "    \n",
    "    actor_photo_url = actor.get('headshot', 'No photo available')\n",
    "    \n",
    "    # Print all available details\n",
    "    print(f\"Actor Name: {actor_name}\")\n",
    "    print(f\"Birth Date: {actor_birth_date}\")\n",
    "    print(f\"Height: {actor_height}\")\n",
    "    print(f\"Biography: {actor_biography[:500]}...\")  # Limiting biography output\n",
    "    print(f\"Trivia: {actor_trivia}\")\n",
    "    print(f\"Filmography: {actor_filmography}\")\n",
    "    print(f\"Actor Photo URL: {actor_photo_url}\")\n",
    "else:\n",
    "    print(\"No cast member found.\")"
   ]
  },
  {
   "cell_type": "code",
   "execution_count": 36,
   "metadata": {},
   "outputs": [
    {
     "name": "stdout",
     "output_type": "stream",
     "text": [
      "Jessica Michelle Chastain was born in Sacramento, California, and was raised in a middle-class household in a Northern California suburb. Her mother, Jerri Chastain, is a vegan chef whose family is originally from Kansas, and her stepfather is a fireman. She discovered dance at the age of nine and was in a dance troupe by age thirteen. She began performing in Shakespearean productions all over the Bay area.An actor in a production of \"Romeo & Juliet\" encouraged her to audition for Juilliard as a drama major. She became a member of \"Crew 32\" with the help of a scholarship from one of the school's famous alumni, 'Robin Williams' (qv).In her last year at Juilliard, she was offered a holding deal with TV writer/producer 'John Wells' (qv) and she eventually worked in three of his TV shows. Jessica continues to do theatre, having played in \"The Cherry Orchard\", \"Rodney's Wife\", \"Salome\" and \"Othello\". She spends her time between New York and Los Angeles, working in theater, film and TV.In 2011, she had a prolific year in film. She was nominated for and won a number of awards, including a 2012 Oscar nomination for Best\n",
      "Performance by an Actress in a Supporting Role for _The Help (2011)_ (qv).::Anonymous\n"
     ]
    }
   ],
   "source": [
    "print(actor_biography)"
   ]
  },
  {
   "cell_type": "code",
   "execution_count": null,
   "metadata": {},
   "outputs": [],
   "source": []
  }
 ],
 "metadata": {
  "kernelspec": {
   "display_name": ".venv",
   "language": "python",
   "name": "python3"
  },
  "language_info": {
   "codemirror_mode": {
    "name": "ipython",
    "version": 3
   },
   "file_extension": ".py",
   "mimetype": "text/x-python",
   "name": "python",
   "nbconvert_exporter": "python",
   "pygments_lexer": "ipython3",
   "version": "3.12.3"
  }
 },
 "nbformat": 4,
 "nbformat_minor": 2
}
