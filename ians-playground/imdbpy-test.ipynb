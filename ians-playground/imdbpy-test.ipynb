{
 "cells": [
  {
   "cell_type": "code",
   "execution_count": 1,
   "metadata": {},
   "outputs": [],
   "source": [
    "from imdb import Cinemagoer"
   ]
  },
  {
   "cell_type": "code",
   "execution_count": 2,
   "metadata": {},
   "outputs": [],
   "source": [
    "ia = Cinemagoer()\n",
    "\n",
    "results = ia.search_movie('the matrix')"
   ]
  },
  {
   "cell_type": "code",
   "execution_count": 3,
   "metadata": {},
   "outputs": [
    {
     "data": {
      "text/plain": [
       "[<Movie id:0133093[http] title:_The Matrix (1999)_>,\n",
       " <Movie id:10838180[http] title:_The Matrix Resurrections (2021)_>,\n",
       " <Movie id:0234215[http] title:_The Matrix Reloaded (2003)_>,\n",
       " <Movie id:0242653[http] title:_The Matrix Revolutions (2003)_>,\n",
       " <Movie id:0410519[http] title:_The Matrix Recalibrated (2004) (V)_>,\n",
       " <Movie id:11574780[http] title:_The Matrix Redeemed (2020)_>,\n",
       " <Movie id:9847360[http] title:_A Glitch in the Matrix (2021)_>,\n",
       " <Movie id:12355912[http] title:_The Matrix: Reborn (2020) (TV)_>,\n",
       " <Movie id:0274085[http] title:_Sex and the Matrix (2000)_>,\n",
       " <Movie id:30749809[http] title:_Free Your Mind: The Matrix Now (2023)_>,\n",
       " <Movie id:0295432[http] title:_The Matrix Revisited (2001) (V)_>,\n",
       " <Movie id:0365467[http] title:_Making 'The Matrix' (1999)_>,\n",
       " <Movie id:0106062[http] title:_\"Matrix\" (1993)_>,\n",
       " <Movie id:9642498[http] title:_The Matrix (2016)_>,\n",
       " <Movie id:31998838[http] title:_Matrix 5 (None)_>,\n",
       " <Movie id:0277828[http] title:_Enter the Matrix (2003) (VG)_>,\n",
       " <Movie id:1499960[http] title:_The Living Matrix (2009)_>,\n",
       " <Movie id:27496886[http] title:_The Matrix Resurrections (2021)_>,\n",
       " <Movie id:0390244[http] title:_The Matrix Online (2005) (VG)_>,\n",
       " <Movie id:5325370[http] title:_The Matrix Revolutions: Double Agent Smith (2004) (V)_>]"
      ]
     },
     "execution_count": 3,
     "metadata": {},
     "output_type": "execute_result"
    }
   ],
   "source": [
    "results"
   ]
  },
  {
   "cell_type": "code",
   "execution_count": 4,
   "metadata": {},
   "outputs": [
    {
     "data": {
      "text/plain": [
       "<Movie id:6723592[http] title:_Tenet (2020)_>"
      ]
     },
     "execution_count": 4,
     "metadata": {},
     "output_type": "execute_result"
    }
   ],
   "source": [
    "# Create an instance of the IMDb class\n",
    "\n",
    "\n",
    "# Get movie by IMDb ID\n",
    "movie_id = '6723592'  # This is the IMDb ID for the movie \"Interstellar\"\n",
    "movie = ia.get_movie(movie_id)\n",
    "\n",
    "movie"
   ]
  },
  {
   "cell_type": "code",
   "execution_count": 6,
   "metadata": {},
   "outputs": [],
   "source": [
    "genre = movie.get('genre')"
   ]
  },
  {
   "cell_type": "code",
   "execution_count": 15,
   "metadata": {},
   "outputs": [],
   "source": [
    "# Get the first cast member of the movie\n",
    "first_cast_member = movie['cast'][4] if 'cast' in movie else None"
   ]
  },
  {
   "cell_type": "code",
   "execution_count": 16,
   "metadata": {},
   "outputs": [
    {
     "data": {
      "text/plain": [
       "<Person id:0913475[http] name:_John David Washington_>"
      ]
     },
     "execution_count": 16,
     "metadata": {},
     "output_type": "execute_result"
    }
   ],
   "source": [
    "first_cast_member"
   ]
  },
  {
   "cell_type": "code",
   "execution_count": 17,
   "metadata": {},
   "outputs": [
    {
     "name": "stdout",
     "output_type": "stream",
     "text": [
      "Actor Name: John David Washington\n",
      "Birth Date: N/A\n",
      "Height: N/A\n",
      "Biography: John David Washington is an American actor, producer, and former professional football player. He played college football at Morehouse College and signed with the St. Louis Rams as an Undrafted free agent in 2006. Professionally, Washington spent four years as the running back for the United Football League's Sacramento Mountain Lions. Washington shifted to an acting career like his father, 'Denzel Washington' (qv), and mother, Pauletta. He was part of the main cast of the HBO comedy series Ball...\n",
      "Trivia: N/A\n",
      "Filmography: N/A\n",
      "Actor Photo URL: https://m.media-amazon.com/images/M/MV5BOTY4NDcyNDM5OF5BMl5BanBnXkFtZTgwMjk4Mzk0NTM@._V1_QL75_UY207_CR4,0,140,207_.jpg\n"
     ]
    }
   ],
   "source": [
    "if first_cast_member:\n",
    "    actor_id = first_cast_member.personID\n",
    "    actor = ia.get_person(actor_id)  # Retrieve full details of the actor\n",
    "    \n",
    "    # Extracting various pieces of information\n",
    "    actor_name = actor.get('name', 'N/A')\n",
    "    actor_birth_date = actor.get('birth date', 'N/A')\n",
    "    actor_height = actor.get('height', 'N/A')\n",
    "    actor_biography = actor.get('biography', ['N/A'])[0]  # IMDb stores biography as a list\n",
    "    actor_filmography = actor.get('filmography', 'N/A')  # Detailed filmography\n",
    "    actor_trivia = actor.get('trivia', ['N/A'])[0]  # Trivia is also a list, taking the first entry\n",
    "    \n",
    "    actor_photo_url = actor.get('headshot', 'No photo available')\n",
    "    \n",
    "    # Print all available details\n",
    "    print(f\"Actor Name: {actor_name}\")\n",
    "    print(f\"Birth Date: {actor_birth_date}\")\n",
    "    print(f\"Height: {actor_height}\")\n",
    "    print(f\"Biography: {actor_biography[:500]}...\")  # Limiting biography output\n",
    "    print(f\"Trivia: {actor_trivia}\")\n",
    "    print(f\"Filmography: {actor_filmography}\")\n",
    "    print(f\"Actor Photo URL: {actor_photo_url}\")\n",
    "else:\n",
    "    print(\"No cast member found.\")"
   ]
  },
  {
   "cell_type": "code",
   "execution_count": 48,
   "metadata": {},
   "outputs": [
    {
     "name": "stdout",
     "output_type": "stream",
     "text": [
      "Jessica Michelle Chastain was born in Sacramento, California, and was raised in a middle-class household in a Northern California suburb. Her mother, Jerri Chastain, is a vegan chef whose family is originally from Kansas, and her stepfather is a fireman. She discovered dance at the age of nine and was in a dance troupe by age thirteen. She began performing in Shakespearean productions all over the Bay area.An actor in a production of \"Romeo & Juliet\" encouraged her to audition for Juilliard as a drama major. She became a member of \"Crew 32\" with the help of a scholarship from one of the school's famous alumni, 'Robin Williams' (qv).In her last year at Juilliard, she was offered a holding deal with TV writer/producer 'John Wells' (qv) and she eventually worked in three of his TV shows. Jessica continues to do theatre, having played in \"The Cherry Orchard\", \"Rodney's Wife\", \"Salome\" and \"Othello\". She spends her time between New York and Los Angeles, working in theater, film and TV.In 2011, she had a prolific year in film. She was nominated for and won a number of awards, including a 2012 Oscar nomination for Best\n",
      "Performance by an Actress in a Supporting Role for _The Help (2011)_ (qv).::Anonymous\n"
     ]
    }
   ],
   "source": [
    "print(actor_biography)"
   ]
  },
  {
   "cell_type": "code",
   "execution_count": 58,
   "metadata": {},
   "outputs": [
    {
     "name": "stdout",
     "output_type": "stream",
     "text": [
      "None\n"
     ]
    }
   ],
   "source": [
    "import pprint\n",
    "\n",
    "actor = ia.get_person(first_cast_member.personID)\n",
    "\n",
    "print(actor.get('filmography'))"
   ]
  },
  {
   "cell_type": "code",
   "execution_count": null,
   "metadata": {},
   "outputs": [],
   "source": [
    "import os\n",
    "import openai\n",
    "import json\n",
    "from dotenv import load_dotenv\n",
    "import pymongo\n",
    "from bson.objectid import ObjectId\n",
    "\n",
    "load_dotenv() \n",
    "mongodb_uri = os.getenv('MONGODB_URI')  # retrieve mongodb uri from .env file\n",
    "\n",
    "try:\n",
    "    client = pymongo.MongoClient(mongodb_uri)  # this creates a client that can connect to our DB\n",
    "    db = client.get_database(\"Movies\")  # this gets the database named 'Movies'\n",
    "    movieDetails = db.get_collection(\"MovieDetail\")\n",
    "\n",
    "    client.server_info()  # forces client to connect to server\n",
    "    print(\"Connected successfully to the 'Movies' database!\")\n",
    "\n",
    "except pymongo.errors.ConnectionFailure as e:\n",
    "    print(f\"Could not connect to MongoDB: {e}\")\n",
    "    exit(1)\n",
    "\n",
    "def get_movie_poster_details(poster_link):\n",
    "    # Structured prompt to enforce the same parameters for all movie posters\n",
    "    prompt = f\"Provide the following information about the poster {poster_link} as JSON:\\n\\\n",
    "    title,\\n\\\n",
    "    tagline,\\n\\\n",
    "    genre,\\n\\\n",
    "    director_style,\\n\\\n",
    "    color_palette (nested object containing HEX codes of primary, secondary, and accent colors),\\n\\\n",
    "    font (nested object containing title_font, tagline_font, credits_font),\\n\\\n",
    "    image_elements (e.g., main character, background),\\n\\\n",
    "    atmosphere,\\n\\\n",
    "    iconography,\\n\\\n",
    "    art_style,\\n\\\n",
    "    period_style.\\n\\\n",
    "    If any information is unavailable, use 'unknown' as the value.\"\n",
    "    \n",
    "    response = openai.Completion.create(\n",
    "        engine=\"text-davinci-003\",\n",
    "        prompt=prompt,\n",
    "        max_tokens=300\n",
    "    )\n",
    "    \n",
    "    # Parse GPT response to JSON\n",
    "    details = json.loads(response['choices'][0]['text'].strip())\n",
    "    \n",
    "    return details\n",
    "\n",
    "def add_movie_details():  # defines what information we are looking to store\n",
    "    imdb_id = \"Sample id\"\n",
    "    Title = \"Sample Title\"\n",
    "    Rating = \"Sample Rating\"\n",
    "    RTM = \"Sample RTM\"\n",
    "    DOR = \"Sample DOR\"\n",
    "    Genre = [\"Genre1\", \"Genre2\", \"Genre3\"]  # store multiple genres to calculate similarity score\n",
    "    Director = \"Sample Director\"\n",
    "    Writers = [\"Writer1\", \"Writer2\", \"Writer3\"]\n",
    "    Actors = [\n",
    "        {\n",
    "            \"Actor 1\": \"Sample Actor1\",\n",
    "            \"Actor 2\": \"Sample Actor 2\",\n",
    "            \"Actor 3\": \"Sample Actor 3\"\n",
    "        }\n",
    "    ]\n",
    "    Plot = \"Sample Plot goes here.\"\n",
    "    Estimated_Budget = \"Sample Budget\"\n",
    "    Poster = \"Sample Poster Link\"\n",
    "\n",
    "    # Call the GPT function to get the Poster Key Characteristics\n",
    "    poster_details = get_movie_poster_details(Poster)\n",
    "\n",
    "    # Construct poster_document with default values for missing fields\n",
    "    poster_document = {\n",
    "        \"title\": poster_details.get(\"title\", \"unknown\"),\n",
    "        \"tagline\": poster_details.get(\"tagline\", \"unknown\"),\n",
    "        \"genre\": poster_details.get(\"genre\", \"unknown\"),\n",
    "        \"director_style\": poster_details.get(\"director_style\", \"unknown\"),\n",
    "        \"color_palette\": poster_details.get(\"color_palette\", {\n",
    "            \"primary\": \"unknown\",\n",
    "            \"secondary\": \"unknown\",\n",
    "            \"accent\": \"unknown\"\n",
    "        }),\n",
    "        \"font\": poster_details.get(\"font\", {\n",
    "            \"title_font\": \"unknown\",\n",
    "            \"tagline_font\": \"unknown\",\n",
    "            \"credits_font\": \"unknown\"\n",
    "        }),\n",
    "        \"image_elements\": poster_details.get(\"image_elements\", {\n",
    "            \"main_character\": \"unknown\",\n",
    "            \"background\": \"unknown\"\n",
    "        }),\n",
    "        \"atmosphere\": poster_details.get(\"atmosphere\", \"unknown\"),\n",
    "        \"iconography\": poster_details.get(\"iconography\", [\"unknown\"]),\n",
    "        \"art_style\": poster_details.get(\"art_style\", \"unknown\"),\n",
    "        \"period_style\": poster_details.get(\"period_style\", \"unknown\")\n",
    "    }\n",
    "\n",
    "    # Full movie detail, now embedding Poster_Key_Characteristics retrieved from GPT\n",
    "    movieDetail = {\n",
    "        \"imdb_id\": imdb_id,\n",
    "        \"title\": Title,\n",
    "        \"Rating\": Rating,\n",
    "        \"RTM\": RTM,\n",
    "        \"DOR\": DOR,\n",
    "        \"Genre\": Genre,\n",
    "        \"Director\": Director,\n",
    "        \"Writer(s)\": Writers,\n",
    "        \"Actors\": Actors,\n",
    "        \"Plot\": Plot,\n",
    "        \"Estimated Budget\": Estimated_Budget,\n",
    "        \"Poster\": Poster,\n",
    "        \"Poster_Key_Characteristics\": poster_document  # Embedding GPT-generated poster characteristics\n",
    "    }\n",
    "\n",
    "    try:\n",
    "        result = movieDetails.insert_one(movieDetail)\n",
    "        print(f\"Movie added with ID: {result.inserted_id}\")\n",
    "    except pymongo.errors.PyMongoError as e:\n",
    "        print(f\"An error occurred while adding the movie: {e}\")\n",
    "\n",
    "def main():\n",
    "    add_movie_details()\n",
    "    client.close()\n",
    "\n",
    "if __name__ == \"__main__\":\n",
    "    main()\n"
   ]
  }
 ],
 "metadata": {
  "kernelspec": {
   "display_name": ".venv",
   "language": "python",
   "name": "python3"
  },
  "language_info": {
   "codemirror_mode": {
    "name": "ipython",
    "version": 3
   },
   "file_extension": ".py",
   "mimetype": "text/x-python",
   "name": "python",
   "nbconvert_exporter": "python",
   "pygments_lexer": "ipython3",
   "version": "3.12.3"
  }
 },
 "nbformat": 4,
 "nbformat_minor": 2
}
